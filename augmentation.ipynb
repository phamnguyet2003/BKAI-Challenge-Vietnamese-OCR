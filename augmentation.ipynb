{
 "cells": [
  {
   "cell_type": "code",
   "execution_count": 5,
   "metadata": {},
   "outputs": [
    {
     "data": {
      "text/plain": [
       "-1"
      ]
     },
     "execution_count": 5,
     "metadata": {},
     "output_type": "execute_result"
    }
   ],
   "source": [
    "from torchvision.transforms import ToTensor, Resize, Compose, RandomAffine, ColorJitter\n",
    "from PIL import Image\n",
    "import numpy as np\n",
    "import cv2\n",
    "affine = RandomAffine(degrees=(-5, 5),\n",
    "                    scale=(0.5, 1.05), shear=10)\n",
    "jitter = ColorJitter(brightness=0.5, \n",
    "            contrast=0.5,\n",
    "            saturation=0.5,\n",
    "            hue=0.5)\n",
    "\n",
    "image = Image.open(r'data\\new_train\\train_img_125.jpg').convert('L')\n",
    "open_cv_image1 = np.array(image)\n",
    "cv2.imshow('image', open_cv_image1)\n",
    "image = affine(image)\n",
    "image = jitter(image)\n",
    "cv2.waitKey(0)\n",
    "\n",
    "open_cv_image2 = np.array(image) \n",
    "\n",
    "cv2.imshow('image', open_cv_image2)\n",
    "cv2.waitKey(0)\n",
    "\n"
   ]
  }
 ],
 "metadata": {
  "kernelspec": {
   "display_name": "Python 3",
   "language": "python",
   "name": "python3"
  },
  "language_info": {
   "codemirror_mode": {
    "name": "ipython",
    "version": 3
   },
   "file_extension": ".py",
   "mimetype": "text/x-python",
   "name": "python",
   "nbconvert_exporter": "python",
   "pygments_lexer": "ipython3",
   "version": "3.11.1"
  },
  "orig_nbformat": 4
 },
 "nbformat": 4,
 "nbformat_minor": 2
}
